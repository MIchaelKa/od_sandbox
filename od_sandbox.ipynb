{
 "cells": [
  {
   "cell_type": "code",
   "execution_count": 3,
   "id": "4bd05015-10e3-4cb7-837f-fe0a55fb0db4",
   "metadata": {},
   "outputs": [],
   "source": [
    "import torch\n",
    "from torch import nn\n",
    "\n",
    "from torchvision.models.detection.backbone_utils import resnet_fpn_backbone"
   ]
  },
  {
   "cell_type": "code",
   "execution_count": 4,
   "id": "915bcfe3-5653-469d-b18d-956d962d78ca",
   "metadata": {},
   "outputs": [
    {
     "name": "stderr",
     "output_type": "stream",
     "text": [
      "/Users/user006/miniconda3/envs/dev_common/lib/python3.11/site-packages/torchvision/models/_utils.py:135: UserWarning: Using 'backbone_name' as positional parameter(s) is deprecated since 0.13 and may be removed in the future. Please use keyword parameter(s) instead.\n",
      "  warnings.warn(\n",
      "/Users/user006/miniconda3/envs/dev_common/lib/python3.11/site-packages/torchvision/models/_utils.py:208: UserWarning: The parameter 'pretrained' is deprecated since 0.13 and may be removed in the future, please use 'weights' instead.\n",
      "  warnings.warn(\n",
      "/Users/user006/miniconda3/envs/dev_common/lib/python3.11/site-packages/torchvision/models/_utils.py:223: UserWarning: Arguments other than a weight enum or `None` for 'weights' are deprecated since 0.13 and may be removed in the future. The current behavior is equivalent to passing `weights=ResNet18_Weights.IMAGENET1K_V1`. You can also use `weights=ResNet18_Weights.DEFAULT` to get the most up-to-date weights.\n",
      "  warnings.warn(msg)\n",
      "Downloading: \"https://download.pytorch.org/models/resnet18-f37072fd.pth\" to /Users/user006/.cache/torch/hub/checkpoints/resnet18-f37072fd.pth\n",
      "100%|██████████████████████████████████████| 44.7M/44.7M [00:01<00:00, 37.5MB/s]\n"
     ]
    }
   ],
   "source": [
    "backbone = resnet_fpn_backbone(\n",
    "    'resnet18', # resnet18, resnet50\n",
    "    pretrained=True,\n",
    "    trainable_layers=5, # all layers\n",
    "    # trainable_layers=3,\n",
    "    returned_layers=[2,3,4]\n",
    ")"
   ]
  },
  {
   "cell_type": "code",
   "execution_count": 5,
   "id": "0faf5a2a-9b2f-4d0b-a293-e7dd4db52ad6",
   "metadata": {},
   "outputs": [],
   "source": [
    "test_tensor = torch.randn(1,3,300,300)"
   ]
  },
  {
   "cell_type": "code",
   "execution_count": 15,
   "id": "c9e49de8-34e7-4219-ac9a-9b6a59a7c361",
   "metadata": {},
   "outputs": [],
   "source": [
    "feature_dict = backbone(test_tensor)"
   ]
  },
  {
   "cell_type": "code",
   "execution_count": 16,
   "id": "437f4e7f-93a4-41f0-b321-fc7033ec6939",
   "metadata": {},
   "outputs": [
    {
     "data": {
      "text/plain": [
       "odict_keys(['0', '1', '2', 'pool'])"
      ]
     },
     "execution_count": 16,
     "metadata": {},
     "output_type": "execute_result"
    }
   ],
   "source": [
    "feature_dict.keys()"
   ]
  },
  {
   "cell_type": "code",
   "execution_count": 13,
   "id": "aa5a0159-635d-4517-8f4f-d1446828a929",
   "metadata": {},
   "outputs": [],
   "source": [
    "features = list(feature_dict.values())"
   ]
  },
  {
   "cell_type": "code",
   "execution_count": 14,
   "id": "fda3a9de-da99-4cf7-98c7-febf4345e7e2",
   "metadata": {},
   "outputs": [
    {
     "name": "stdout",
     "output_type": "stream",
     "text": [
      "torch.Size([1, 256, 38, 38])\n",
      "torch.Size([1, 256, 19, 19])\n",
      "torch.Size([1, 256, 10, 10])\n",
      "torch.Size([1, 256, 5, 5])\n"
     ]
    }
   ],
   "source": [
    "for f in features:\n",
    "    print(f.shape)"
   ]
  },
  {
   "cell_type": "code",
   "execution_count": null,
   "id": "722842f1-642c-42d2-8452-07b08820ffce",
   "metadata": {},
   "outputs": [],
   "source": []
  }
 ],
 "metadata": {
  "kernelspec": {
   "display_name": "dev_common",
   "language": "python",
   "name": "dev_common"
  },
  "language_info": {
   "codemirror_mode": {
    "name": "ipython",
    "version": 3
   },
   "file_extension": ".py",
   "mimetype": "text/x-python",
   "name": "python",
   "nbconvert_exporter": "python",
   "pygments_lexer": "ipython3",
   "version": "3.11.4"
  }
 },
 "nbformat": 4,
 "nbformat_minor": 5
}
