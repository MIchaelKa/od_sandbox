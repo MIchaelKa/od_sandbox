{
 "cells": [
  {
   "cell_type": "code",
   "execution_count": null,
   "id": "8adc4ac0-965e-4f34-971b-40bfb40dbe84",
   "metadata": {},
   "outputs": [],
   "source": [
    "# Some more magic so that the notebook will reload external python modules;\n",
    "# see http://stackoverflow.com/questions/1907993/autoreload-of-modules-in-ipython\n",
    "%load_ext autoreload\n",
    "%autoreload 2"
   ]
  },
  {
   "cell_type": "code",
   "execution_count": null,
   "id": "c8b5cac7-e398-4fc3-910c-103898c84291",
   "metadata": {},
   "outputs": [],
   "source": [
    "from common.utils import seed_everything\n",
    "from train import get_dataset\n",
    "from draw_utils import visualize_dataset"
   ]
  },
  {
   "cell_type": "code",
   "execution_count": null,
   "id": "42774cfd-2e48-4b98-92bc-37cd9e6bdb2f",
   "metadata": {},
   "outputs": [],
   "source": [
    "from common.logger import logger\n",
    "import logging\n",
    "\n",
    "# DEBUG INFO WARNING ERROR CRITICAL\n",
    "logger.setLevel(logging.INFO)"
   ]
  },
  {
   "cell_type": "code",
   "execution_count": null,
   "id": "f90c7a20-38f6-46ea-bb49-c00403bd6ab6",
   "metadata": {},
   "outputs": [],
   "source": [
    "seed_everything(1024)"
   ]
  },
  {
   "cell_type": "markdown",
   "id": "9fe310d0-c054-40e3-98ef-aa867e257aa8",
   "metadata": {
    "jp-MarkdownHeadingCollapsed": true
   },
   "source": [
    "# Backbone"
   ]
  },
  {
   "cell_type": "code",
   "execution_count": null,
   "id": "0be67ab1-3411-4c6c-8d8d-6c5d5e7cf18f",
   "metadata": {},
   "outputs": [],
   "source": [
    "import torch\n",
    "from torch import nn\n",
    "\n",
    "from torchvision.models.detection.backbone_utils import resnet_fpn_backbone"
   ]
  },
  {
   "cell_type": "code",
   "execution_count": null,
   "id": "915bcfe3-5653-469d-b18d-956d962d78ca",
   "metadata": {},
   "outputs": [],
   "source": [
    "backbone = resnet_fpn_backbone(\n",
    "    'resnet18', # resnet18, resnet50\n",
    "    pretrained=True,\n",
    "    trainable_layers=5, # all layers\n",
    "    # trainable_layers=3,\n",
    "    returned_layers=[2,3,4]\n",
    ")"
   ]
  },
  {
   "cell_type": "code",
   "execution_count": null,
   "id": "0faf5a2a-9b2f-4d0b-a293-e7dd4db52ad6",
   "metadata": {},
   "outputs": [],
   "source": [
    "test_tensor = torch.randn(1,3,300,300)\n",
    "feature_dict = backbone(test_tensor)\n",
    "feature_dict.keys()"
   ]
  },
  {
   "cell_type": "code",
   "execution_count": null,
   "id": "aa5a0159-635d-4517-8f4f-d1446828a929",
   "metadata": {},
   "outputs": [],
   "source": [
    "features = list(feature_dict.values())"
   ]
  },
  {
   "cell_type": "code",
   "execution_count": null,
   "id": "fda3a9de-da99-4cf7-98c7-febf4345e7e2",
   "metadata": {},
   "outputs": [],
   "source": [
    "for f in features:\n",
    "    print(f.shape)"
   ]
  },
  {
   "cell_type": "markdown",
   "id": "83fe9786-3b73-4aa9-90bd-e73edbc1f4dd",
   "metadata": {},
   "source": [
    "# PennFudanPed"
   ]
  },
  {
   "cell_type": "code",
   "execution_count": null,
   "id": "2b518291-af42-4e09-aed3-306a3e405114",
   "metadata": {},
   "outputs": [],
   "source": [
    "from dataset.penn_fudan_dataset import PennFudanDataset"
   ]
  },
  {
   "cell_type": "code",
   "execution_count": null,
   "id": "67b10505-eba2-4f74-9972-344fc2b6981b",
   "metadata": {},
   "outputs": [],
   "source": [
    "PENN_FUDAT_ROOT_PATH = './data/PennFudanPed'\n",
    "dataset_train = PennFudanDataset(PENN_FUDAT_ROOT_PATH, train=True)"
   ]
  },
  {
   "cell_type": "code",
   "execution_count": null,
   "id": "7ef98d28-26a4-443b-8c88-5ced33f7780b",
   "metadata": {},
   "outputs": [],
   "source": [
    "img, mask, bboxs = dataset_train[0]\n",
    "img.shape, mask.shape, bboxs.shape"
   ]
  },
  {
   "cell_type": "code",
   "execution_count": null,
   "id": "952d8abb-fd64-4db6-aae6-5314c41537d8",
   "metadata": {},
   "outputs": [],
   "source": [
    "visualize_dataset(dataset_train, count=5, size=3)"
   ]
  },
  {
   "cell_type": "markdown",
   "id": "afd23fd0-e734-4492-b38e-fb981ce083b2",
   "metadata": {},
   "source": [
    "# Pascal VOC"
   ]
  },
  {
   "cell_type": "code",
   "execution_count": null,
   "id": "1ae4d00d-a054-4258-919c-7ff006993f05",
   "metadata": {},
   "outputs": [],
   "source": [
    "from dataset.pascal_voc_dataset import PascalVOCDataset"
   ]
  },
  {
   "cell_type": "code",
   "execution_count": null,
   "id": "745bb496-3028-4de7-8e8c-960034d6c7ec",
   "metadata": {},
   "outputs": [],
   "source": [
    "dataset_voc = PascalVOCDataset('./data/VOCdevkit/', 'TRAIN', transforms=None)"
   ]
  },
  {
   "cell_type": "code",
   "execution_count": null,
   "id": "e3a872a4-ec0a-4963-ac43-bb437e025ab4",
   "metadata": {},
   "outputs": [],
   "source": [
    "visualize_dataset(dataset_voc, count=5, size=3)"
   ]
  },
  {
   "cell_type": "markdown",
   "id": "5b118fab-231e-4c8b-8a13-009d9a57d2ca",
   "metadata": {},
   "source": [
    "# Model"
   ]
  },
  {
   "cell_type": "code",
   "execution_count": null,
   "id": "31b629ee-11e8-43a8-b5f0-5824a99a2d4f",
   "metadata": {},
   "outputs": [],
   "source": [
    "from centernet import create_model"
   ]
  },
  {
   "cell_type": "code",
   "execution_count": null,
   "id": "1f8b8d73-377a-47a8-8f0c-b52038ad5879",
   "metadata": {},
   "outputs": [],
   "source": [
    "model = create_model()"
   ]
  },
  {
   "cell_type": "code",
   "execution_count": null,
   "id": "6bd0c795-bd85-4b9e-9653-b0c1367c8052",
   "metadata": {},
   "outputs": [],
   "source": [
    "img, mask, bboxs = dataset_train[0]\n",
    "img.shape, mask.shape, bboxs.shape"
   ]
  },
  {
   "cell_type": "code",
   "execution_count": null,
   "id": "072f298c-1768-441b-ab6b-87c6a4899f1d",
   "metadata": {},
   "outputs": [],
   "source": [
    "out = model(img)"
   ]
  },
  {
   "cell_type": "code",
   "execution_count": null,
   "id": "4790fb97-a0b7-431d-8fe6-7a9fae587855",
   "metadata": {},
   "outputs": [],
   "source": [
    "out.shape"
   ]
  },
  {
   "cell_type": "markdown",
   "id": "97001dbf-5903-4b8a-8166-6b836394f5ed",
   "metadata": {},
   "source": [
    "# Test"
   ]
  },
  {
   "cell_type": "code",
   "execution_count": null,
   "id": "cb40a4f0-8e3b-4c89-929b-a2bf12d92587",
   "metadata": {},
   "outputs": [],
   "source": [
    "dataset_train, dataset_test = get_dataset()"
   ]
  },
  {
   "cell_type": "code",
   "execution_count": null,
   "id": "75b58b14-da61-4ef4-80b4-a5d25b7a6431",
   "metadata": {},
   "outputs": [],
   "source": [
    "model_name = 'centernet_v1'\n",
    "model_save_name = f'{model_name}.pth'\n",
    "model.load_state_dict(torch.load(model_save_name))\n",
    "logger.info(f'Model loaded from {model_save_name}')"
   ]
  },
  {
   "cell_type": "code",
   "execution_count": null,
   "id": "36c523a9-1e6c-4b38-9358-39065ccde226",
   "metadata": {},
   "outputs": [],
   "source": [
    "import numpy as np\n",
    "import torchvision.transforms as T\n",
    "import cv2\n",
    "\n",
    "from draw_utils import show_images"
   ]
  },
  {
   "cell_type": "code",
   "execution_count": null,
   "id": "040d7e7b-fc59-4d03-b7ad-9ea7a5919b98",
   "metadata": {},
   "outputs": [],
   "source": [
    "def make_prediction(model, dataset, index):\n",
    "    test_img_t, test_mask_t, test_bboxs_t = dataset[index]\n",
    "\n",
    "    print(test_img_t.shape)\n",
    "\n",
    "    model.eval()\n",
    "    pred = model(test_img_t)\n",
    "\n",
    "    print(pred.shape)\n",
    "\n",
    "    pred_mask = pred[:,0]\n",
    "    # pred_mask = torch.sigmoid(pred[:,0])\n",
    "    bboxs = pred[:,1:]\n",
    "\n",
    "    pred_img = pred_mask.squeeze().detach().cpu().numpy()\n",
    "\n",
    "    # threshold = 15\n",
    "    threshold = 0\n",
    "    print(np.min(pred_img), np.max(pred_img))\n",
    "    pred_img = np.where(pred_img > threshold, pred_img, 0)\n",
    "\n",
    "    # draw bbox\n",
    "    color = (255, 0, 0)\n",
    "    img_arr = np.array(T.ToPILImage()(test_img_t))\n",
    "    xs, ys = np.nonzero(pred_img)\n",
    "    bboxs = bboxs.squeeze().detach().cpu().numpy()\n",
    "    bboxs = np.transpose(bboxs, (1, 2, 0))\n",
    "    center_bboxs = np.int32(bboxs[xs, ys])\n",
    "    for bbox in center_bboxs:\n",
    "        # print(bbox)\n",
    "        cv2.rectangle(img_arr, (bbox[0],bbox[1]), (bbox[2],bbox[3]), color, 2)\n",
    "    \n",
    "    # visualize\n",
    "    show_images([img_arr, test_mask_t, pred_img],\n",
    "                [\"Original\", \"GT Mask\", \"Prediction\"])"
   ]
  },
  {
   "cell_type": "code",
   "execution_count": null,
   "id": "13b5d3fc-6fd4-484f-95e4-b2554e29da90",
   "metadata": {},
   "outputs": [],
   "source": [
    "make_prediction(model, dataset_test, index=4)"
   ]
  },
  {
   "cell_type": "code",
   "execution_count": null,
   "id": "6d0ae258-039e-418a-994f-ec4108390a33",
   "metadata": {},
   "outputs": [],
   "source": []
  }
 ],
 "metadata": {
  "kernelspec": {
   "display_name": "dev_common",
   "language": "python",
   "name": "dev_common"
  },
  "language_info": {
   "codemirror_mode": {
    "name": "ipython",
    "version": 3
   },
   "file_extension": ".py",
   "mimetype": "text/x-python",
   "name": "python",
   "nbconvert_exporter": "python",
   "pygments_lexer": "ipython3",
   "version": "3.11.4"
  }
 },
 "nbformat": 4,
 "nbformat_minor": 5
}
