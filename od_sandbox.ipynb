{
 "cells": [
  {
   "cell_type": "code",
   "execution_count": null,
   "id": "4bd05015-10e3-4cb7-837f-fe0a55fb0db4",
   "metadata": {},
   "outputs": [],
   "source": [
    "import torch\n",
    "from torch import nn\n",
    "\n",
    "from torchvision.models.detection.backbone_utils import resnet_fpn_backbone"
   ]
  },
  {
   "cell_type": "code",
   "execution_count": null,
   "id": "8adc4ac0-965e-4f34-971b-40bfb40dbe84",
   "metadata": {},
   "outputs": [],
   "source": [
    "# Some more magic so that the notebook will reload external python modules;\n",
    "# see http://stackoverflow.com/questions/1907993/autoreload-of-modules-in-ipython\n",
    "%load_ext autoreload\n",
    "%autoreload 2"
   ]
  },
  {
   "cell_type": "markdown",
   "id": "9fe310d0-c054-40e3-98ef-aa867e257aa8",
   "metadata": {
    "jp-MarkdownHeadingCollapsed": true
   },
   "source": [
    "# Backbone"
   ]
  },
  {
   "cell_type": "code",
   "execution_count": null,
   "id": "915bcfe3-5653-469d-b18d-956d962d78ca",
   "metadata": {},
   "outputs": [],
   "source": [
    "backbone = resnet_fpn_backbone(\n",
    "    'resnet18', # resnet18, resnet50\n",
    "    pretrained=True,\n",
    "    trainable_layers=5, # all layers\n",
    "    # trainable_layers=3,\n",
    "    returned_layers=[2,3,4]\n",
    ")"
   ]
  },
  {
   "cell_type": "code",
   "execution_count": null,
   "id": "0faf5a2a-9b2f-4d0b-a293-e7dd4db52ad6",
   "metadata": {},
   "outputs": [],
   "source": [
    "test_tensor = torch.randn(1,3,300,300)"
   ]
  },
  {
   "cell_type": "code",
   "execution_count": null,
   "id": "c9e49de8-34e7-4219-ac9a-9b6a59a7c361",
   "metadata": {},
   "outputs": [],
   "source": [
    "feature_dict = backbone(test_tensor)"
   ]
  },
  {
   "cell_type": "code",
   "execution_count": null,
   "id": "437f4e7f-93a4-41f0-b321-fc7033ec6939",
   "metadata": {},
   "outputs": [],
   "source": [
    "feature_dict.keys()"
   ]
  },
  {
   "cell_type": "code",
   "execution_count": null,
   "id": "aa5a0159-635d-4517-8f4f-d1446828a929",
   "metadata": {},
   "outputs": [],
   "source": [
    "features = list(feature_dict.values())"
   ]
  },
  {
   "cell_type": "code",
   "execution_count": null,
   "id": "fda3a9de-da99-4cf7-98c7-febf4345e7e2",
   "metadata": {},
   "outputs": [],
   "source": [
    "for f in features:\n",
    "    print(f.shape)"
   ]
  },
  {
   "cell_type": "markdown",
   "id": "83fe9786-3b73-4aa9-90bd-e73edbc1f4dd",
   "metadata": {},
   "source": [
    "# Data"
   ]
  },
  {
   "cell_type": "code",
   "execution_count": null,
   "id": "2b518291-af42-4e09-aed3-306a3e405114",
   "metadata": {},
   "outputs": [],
   "source": [
    "from dataset.penn_fudan.penn_fudan_dataset import PennFudanDataset\n",
    "from dataset.penn_fudan.draw_utils import visualize_dataset"
   ]
  },
  {
   "cell_type": "code",
   "execution_count": null,
   "id": "67b10505-eba2-4f74-9972-344fc2b6981b",
   "metadata": {},
   "outputs": [],
   "source": [
    "PENN_FUDAT_ROOT_PATH = 'dataset/penn_fudan/PennFudanPed'\n",
    "dataset_train = PennFudanDataset(PENN_FUDAT_ROOT_PATH, train=True)"
   ]
  },
  {
   "cell_type": "code",
   "execution_count": null,
   "id": "7ef98d28-26a4-443b-8c88-5ced33f7780b",
   "metadata": {},
   "outputs": [],
   "source": [
    "img, mask, bboxs = dataset_train[0]\n",
    "img.shape, mask.shape, bboxs.shape"
   ]
  },
  {
   "cell_type": "code",
   "execution_count": null,
   "id": "952d8abb-fd64-4db6-aae6-5314c41537d8",
   "metadata": {},
   "outputs": [],
   "source": [
    "visualize_dataset(dataset_train)"
   ]
  },
  {
   "cell_type": "markdown",
   "id": "5b118fab-231e-4c8b-8a13-009d9a57d2ca",
   "metadata": {},
   "source": [
    "# Model"
   ]
  },
  {
   "cell_type": "code",
   "execution_count": null,
   "id": "31b629ee-11e8-43a8-b5f0-5824a99a2d4f",
   "metadata": {},
   "outputs": [],
   "source": [
    "from centernet import create_model"
   ]
  },
  {
   "cell_type": "code",
   "execution_count": null,
   "id": "1f8b8d73-377a-47a8-8f0c-b52038ad5879",
   "metadata": {},
   "outputs": [],
   "source": [
    "net = create_model()"
   ]
  },
  {
   "cell_type": "code",
   "execution_count": null,
   "id": "6bd0c795-bd85-4b9e-9653-b0c1367c8052",
   "metadata": {},
   "outputs": [],
   "source": [
    "img, mask, bboxs = dataset_train[0]\n",
    "img.shape, mask.shape, bboxs.shape"
   ]
  },
  {
   "cell_type": "code",
   "execution_count": null,
   "id": "072f298c-1768-441b-ab6b-87c6a4899f1d",
   "metadata": {},
   "outputs": [],
   "source": [
    "out = net(img)"
   ]
  },
  {
   "cell_type": "code",
   "execution_count": null,
   "id": "4790fb97-a0b7-431d-8fe6-7a9fae587855",
   "metadata": {},
   "outputs": [],
   "source": []
  }
 ],
 "metadata": {
  "kernelspec": {
   "display_name": "dev_common",
   "language": "python",
   "name": "dev_common"
  },
  "language_info": {
   "codemirror_mode": {
    "name": "ipython",
    "version": 3
   },
   "file_extension": ".py",
   "mimetype": "text/x-python",
   "name": "python",
   "nbconvert_exporter": "python",
   "pygments_lexer": "ipython3",
   "version": "3.11.4"
  }
 },
 "nbformat": 4,
 "nbformat_minor": 5
}
